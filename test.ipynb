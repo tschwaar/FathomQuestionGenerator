{
 "cells": [
  {
   "cell_type": "code",
   "execution_count": 1,
   "id": "ba21bc11",
   "metadata": {
    "ExecuteTime": {
     "end_time": "2023-08-03T22:26:20.889244Z",
     "start_time": "2023-08-03T22:26:20.454666Z"
    }
   },
   "outputs": [],
   "source": [
    "import pandas as pd"
   ]
  },
  {
   "cell_type": "code",
   "execution_count": 10,
   "id": "83a762c5",
   "metadata": {
    "ExecuteTime": {
     "end_time": "2023-08-03T23:37:01.626518Z",
     "start_time": "2023-08-03T23:37:01.604267Z"
    }
   },
   "outputs": [],
   "source": [
    "data = pd.read_csv(\"mainDB.csv\")"
   ]
  },
  {
   "cell_type": "code",
   "execution_count": 11,
   "id": "9e3d58db",
   "metadata": {
    "ExecuteTime": {
     "end_time": "2023-08-03T23:37:01.861164Z",
     "start_time": "2023-08-03T23:37:01.854598Z"
    },
    "scrolled": true
   },
   "outputs": [
    {
     "data": {
      "text/plain": [
       "Index(['Domain', 'Stakeholder', 'Metric Area', 'Question Type', 'Question',\n",
       "       'Answer Options'],\n",
       "      dtype='object')"
      ]
     },
     "execution_count": 11,
     "metadata": {},
     "output_type": "execute_result"
    }
   ],
   "source": [
    "data.columns"
   ]
  },
  {
   "cell_type": "code",
   "execution_count": 13,
   "id": "3d4f57be",
   "metadata": {
    "ExecuteTime": {
     "end_time": "2023-08-03T23:59:56.510191Z",
     "start_time": "2023-08-03T23:59:56.477584Z"
    },
    "scrolled": true
   },
   "outputs": [],
   "source": [
    "def generate_questions(data, timeline, stakeholders, metrics, domains):\n",
    "    questions_df = data\n",
    "\n",
    "    # Filter the questions based on the selected parameters\n",
    "    filtered_questions_df = questions_df[(questions_df['Domain'] == domains) &\n",
    "                                         (questions_df['Stakeholder'].isin(stakeholders))&\n",
    "                                         (questions_df['Metric Area'].isin(metrics))]\n",
    "\n",
    "    # Get the list of filtered questions\n",
    "    questions = filtered_questions_df['Question'].tolist()\n",
    "\n",
    "    data_df = pd.DataFrame(\n",
    "        {\n",
    "            \"questions\": questions,\n",
    "            \"relevant?\": [False for i in questions],\n",
    "            \"domain\" : [', '.join(domains) for _ in questions],\n",
    "            \"timeline (in months)\" : [timeline for i in questions],\n",
    "            \"stakeholders\" : [', '.join(stakeholders) for _ in questions],\n",
    "            \"metrics\" :[', '.join(metrics) for _ in questions]\n",
    "        }\n",
    "    )\n",
    "    return data_df"
   ]
  },
  {
   "cell_type": "code",
   "execution_count": null,
   "id": "e1477cf9",
   "metadata": {},
   "outputs": [],
   "source": []
  }
 ],
 "metadata": {
  "kernelspec": {
   "display_name": "Python 3 (ipykernel)",
   "language": "python",
   "name": "python3"
  },
  "language_info": {
   "codemirror_mode": {
    "name": "ipython",
    "version": 3
   },
   "file_extension": ".py",
   "mimetype": "text/x-python",
   "name": "python",
   "nbconvert_exporter": "python",
   "pygments_lexer": "ipython3",
   "version": "3.9.12"
  }
 },
 "nbformat": 4,
 "nbformat_minor": 5
}
